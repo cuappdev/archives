{
 "cells": [
  {
   "cell_type": "markdown",
   "metadata": {},
   "source": [
    "## Python Core Demo\n",
    "\n",
    "How to use the python core from a Jupyter notebook. It also shows how to debug the JSON application configs which are used to connect to external database(s) and redis server(s).\n"
   ]
  },
  {
   "cell_type": "code",
   "execution_count": 104,
   "metadata": {
    "collapsed": false,
    "scrolled": false
   },
   "outputs": [
    {
     "name": "stdout",
     "output_type": "stream",
     "text": [
      "(5210, 4676)\n"
     ]
    }
   ],
   "source": [
    "import redis\n",
    "import time \n",
    "import numpy as np\n",
    "from sklearn.feature_extraction.text import TfidfVectorizer\n",
    "import numpy as np\n",
    "import base64\n",
    "import pickle\n",
    "from collections import defaultdict\n",
    "rDB = redis.Redis(host='localhost', port=6379, db=0)\n",
    "def store_numpy(name,mat):\n",
    "    \"\"\"\n",
    "      Creates a matrix from a numpy matrix\n",
    "    \"\"\"\n",
    "    if len(mat.shape) != 2:\n",
    "        raise BaseException('Shape of input matrix must be of size 2')\n",
    "    rows,cols = mat.shape\n",
    "    array_dtype = str(mat.dtype)\n",
    "    m = mat.ravel().tostring()\n",
    "    key = '{0}|{1}#{2}#{3}'.format(int(time.time()), array_dtype, rows, cols)\n",
    "    rDB.set(name,m)\n",
    "    return key\n",
    "\n",
    "def get_numpy(name,key):\n",
    "    d_mat = rDB.get(name)\n",
    "    array_dtype, row, col = key.split('|')[1].split('#')\n",
    "    return np.fromstring(d_mat, dtype=array_dtype).reshape(int(row), int(col))\n",
    "def set_builder(lst):\n",
    "    output = []\n",
    "    for l in lst:\n",
    "        output+=list(set(l))\n",
    "    return list(set(output))\n",
    "pipe = rDB.pipeline()\n",
    "keys = ['doc_by_vocab_data']\n",
    "[pipe.get(k) for k in keys]\n",
    "result = pipe.execute()\n",
    "data = {k:result[i] for i,k in enumerate(keys)}\n",
    "key = data['doc_by_vocab_data']\n",
    "doc_by_vocab = get_numpy('doc_by_vocab',key)\n",
    "print(doc_by_vocab.shape)"
   ]
  },
  {
   "cell_type": "code",
   "execution_count": 105,
   "metadata": {
    "collapsed": false
   },
   "outputs": [
    {
     "data": {
      "text/plain": [
       "dtype('float64')"
      ]
     },
     "execution_count": 105,
     "metadata": {},
     "output_type": "execute_result"
    }
   ],
   "source": [
    "doc_by_vocab.dtype"
   ]
  },
  {
   "cell_type": "code",
   "execution_count": 106,
   "metadata": {
    "collapsed": false
   },
   "outputs": [],
   "source": [
    "vocab_to_index = pickle.loads(rDB.get('vocab_to_index'))\n",
    "index_to_vocab = pickle.loads(rDB.get('index_to_vocab'))\n",
    "episode_to_index = pickle.loads(rDB.get('e_t_to_i'))\n",
    "index_to_episode = pickle.loads(rDB.get('e_i_to_t'))\n",
    "series_to_index = pickle.loads(rDB.get('s_t_to_i'))\n",
    "index_to_series = pickle.loads(rDB.get('s_i_to_t'))\n",
    "series_episodes = pickle.loads(rDB.get('series_episodes'))\n",
    "episode_tags = pickle.loads(rDB.get('e_tags'))"
   ]
  },
  {
   "cell_type": "code",
   "execution_count": 107,
   "metadata": {
    "collapsed": true
   },
   "outputs": [],
   "source": [
    "n_users = 1"
   ]
  },
  {
   "cell_type": "code",
   "execution_count": 108,
   "metadata": {
    "collapsed": false
   },
   "outputs": [],
   "source": [
    "index_to_tag = set_builder(episode_tags.values())\n",
    "n_tags = len(index_to_tag)\n",
    "tag_to_index = {t:i for i,t in enumerate(index_to_tag)}\n",
    "episode_tag_matrix = np.zeros([len(index_to_episode),n_tags])\n",
    "for i in xrange(n_tags):\n",
    "    for tag in episode_tags[index_to_episode[i]]:\n",
    "        episode_tag_matrix[i][tag_to_index[tag]] = 1"
   ]
  },
  {
   "cell_type": "code",
   "execution_count": 136,
   "metadata": {
    "collapsed": false
   },
   "outputs": [
    {
     "name": "stdout",
     "output_type": "stream",
     "text": [
      "____________________________________________________________________________________________________\n",
      "Layer (type)                     Output Shape          Param #     Connected to                     \n",
      "====================================================================================================\n",
      "input_148 (InputLayer)           (None, 1)             0                                            \n",
      "____________________________________________________________________________________________________\n",
      "embedding_88 (Embedding)         (None, 1, 8)          8                                            \n",
      "____________________________________________________________________________________________________\n",
      "input_150 (InputLayer)           (None, 4676)          0                                            \n",
      "____________________________________________________________________________________________________\n",
      "flatten_83 (Flatten)             (None, 8)             0                                            \n",
      "____________________________________________________________________________________________________\n",
      "dense_18 (Dense)                 (None, 8)             37416                                        \n",
      "____________________________________________________________________________________________________\n",
      "dot_12 (Dot)                     (None, 1)             0                                            \n",
      "====================================================================================================\n",
      "Total params: 37,424.0\n",
      "Trainable params: 37,424.0\n",
      "Non-trainable params: 0.0\n",
      "____________________________________________________________________________________________________\n"
     ]
    }
   ],
   "source": [
    "from keras.layers import Dense, Input, Embedding, Flatten, SimpleRNN\n",
    "from keras.models import Model\n",
    "from keras.layers.merge import dot\n",
    "from keras.losses import mean_squared_error\n",
    "user_in = Input(shape=(1,), dtype = 'int32')\n",
    "true_rating_in = Input((1,), dtype = 'float32')\n",
    "meta_features_in = Input(shape=(doc_by_vocab.shape[1],), dtype = 'float32')\n",
    "user_embeddings = Embedding(n_users, 8)\n",
    "user_encoded = Flatten()(user_embeddings(user_in))\n",
    "episode_encoded = Dense(8)(meta_features_in)\n",
    "prediction = dot([user_encoded, episode_encoded], axes = 1)\n",
    "model = Model(inputs = [user_in, meta_features_in,true_rating_in],\n",
    "                     outputs = prediction)\n",
    "model.compile(loss = 'mse', optimizer = 'adam')\n",
    "model.summary()"
   ]
  },
  {
   "cell_type": "code",
   "execution_count": 137,
   "metadata": {
    "collapsed": false
   },
   "outputs": [],
   "source": [
    "ratings = np.zeros((doc_by_vocab.shape[0],n_users))\n",
    "series_name = index_to_series[437]\n",
    "series_name2 = index_to_series[139]\n",
    "for i in [episode_to_index[e] for e in series_episodes[series_name]]:\n",
    "    ratings[i] = 1.0\n",
    "for i in [episode_to_index[e] for e in series_episodes[series_name2]]:\n",
    "    ratings[i] = 1.0\n",
    "# for i in [k for k,v in episode_tags.iteritems() if ('comedy' in v) or ('humor' in v)]:\n",
    "#     ratings[i] = 5.0\n",
    "users = np.zeros((doc_by_vocab.shape[0],1))\n",
    "labels = np.zeros((doc_by_vocab.shape[0],1))"
   ]
  },
  {
   "cell_type": "code",
   "execution_count": 140,
   "metadata": {
    "collapsed": false
   },
   "outputs": [
    {
     "data": {
      "text/plain": [
       "<keras.callbacks.History at 0x11b8f3c50>"
      ]
     },
     "execution_count": 140,
     "metadata": {},
     "output_type": "execute_result"
    }
   ],
   "source": [
    "model.fit([users,doc_by_vocab,ratings],labels,epochs=10,verbose=None)"
   ]
  },
  {
   "cell_type": "code",
   "execution_count": 141,
   "metadata": {
    "collapsed": false
   },
   "outputs": [
    {
     "data": {
      "text/plain": [
       "['6 - Stay Sixy',\n",
       " 'MFM Minisode 12',\n",
       " \"Gay Pimpin' with Jonny McGovern, Bonus Video - 7/21/2006\",\n",
       " 'Harriet Tubman is our Auntie',\n",
       " '27 - Your Hometown Murder Email Round-Up',\n",
       " 'EP13: Horrible Bosses',\n",
       " '35: Maneuver Warfare, Being a Rebel, Disarming w/ Words, Sliding into Old Habits',\n",
       " 'Italian Fashion Brand Doing $12m/Year In Transaction Volume EP 227',\n",
       " 'Episode 22: Youve Got Questions, Weve Got Answers',\n",
       " '7 Reasons Your Website Isnt Working']"
      ]
     },
     "execution_count": 141,
     "metadata": {},
     "output_type": "execute_result"
    }
   ],
   "source": [
    "[index_to_episode[e_i] for e_i in np.array([model.predict([np.array([0]),doc_by_vocab[v].reshape(1,4676),np.array([1.])], batch_size=32, verbose=2)[0][0] for v in range(doc_by_vocab.shape[0])]).argsort()][:10]"
   ]
  },
  {
   "cell_type": "code",
   "execution_count": 113,
   "metadata": {
    "collapsed": false,
    "scrolled": true
   },
   "outputs": [],
   "source": [
    "# from keras.layers import Dense, Input, Embedding, Flatten, Dropout, Bidirectional, GRU, LSTM\n",
    "# from keras.models import Model\n",
    "# from keras.layers.merge import dot\n",
    "# from keras.layers.pooling import AveragePooling1D\n",
    "# from keras.losses import mean_squared_error\n",
    "# from keras.regularizers import l2 as l2reg\n",
    "\n",
    "# user_in = Input(shape=(1,), dtype = 'int32')\n",
    "# true_rating_in = Input((1,), dtype = 'float32')\n",
    "# meta_features_in = Input(shape=(doc_by_vocab.shape[1],), dtype = 'float32')\n",
    "##########\n",
    "# user_embeddings = Embedding(n_users, 5)\n",
    "# user_encoded = Flatten()(user_embeddings(user_in))\n",
    "##########\n",
    "# episode_embeddings = Embedding(doc_by_vocab.shape[1],200,embeddings_regularizer=l2reg(0.01))\n",
    "# episode_encoded = Flatten()(episode_embeddings(meta_features_in))\n",
    "# print(episode_encoded.get_shape)\n",
    "# episode_first_dropout = Dropout(0.1)(episode_encoded)\n",
    "# print(episode_first_dropout.get_shape)\n",
    "# episode_post_first_rnn = GRU(400, input_shape=(doc_by_vocab.shape[1],200))(episode_first_dropout)\n",
    "# episode_post_first_rnn = Bidirectional(GRU(400))(episode_first_dropout)\n",
    "# episode_second_dropout = Dropout(0.5)(episode_post_first_rnn)\n",
    "# episode_post_second_rnn = GRU(units=200)(episode_second_dropout)\n",
    "# episode_third_dropout = Dropout(0.3)(episode_post_second_rnn)\n",
    "# episode_encoded_final = AveragePooling1D()(episode_third_dropout)\n",
    "# episode_final = Dense(5)(episode_first_dropout)\n",
    "# prediction = dot([user_encoded, episode_final], axes = 1)\n",
    "# model = Model(inputs = [user_in, meta_features_in,true_rating_in],\n",
    "#                      outputs = prediction)\n",
    "# model.compile(loss = 'mse', optimizer = 'adam')\n",
    "# model.summary()"
   ]
  },
  {
   "cell_type": "code",
   "execution_count": null,
   "metadata": {
    "collapsed": true
   },
   "outputs": [],
   "source": []
  }
 ],
 "metadata": {
  "kernelspec": {
   "display_name": "podcastenv",
   "language": "python",
   "name": "podcastenv"
  },
  "language_info": {
   "codemirror_mode": {
    "name": "ipython",
    "version": 2
   },
   "file_extension": ".py",
   "mimetype": "text/x-python",
   "name": "python",
   "nbconvert_exporter": "python",
   "pygments_lexer": "ipython2",
   "version": "2.7.10"
  }
 },
 "nbformat": 4,
 "nbformat_minor": 0
}
