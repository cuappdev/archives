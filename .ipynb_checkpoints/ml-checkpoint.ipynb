{
 "cells": [
  {
   "cell_type": "markdown",
   "metadata": {},
   "source": [
    "## Python Core Demo\n",
    "\n",
    "How to use the python core from a Jupyter notebook. It also shows how to debug the JSON application configs which are used to connect to external database(s) and redis server(s).\n"
   ]
  },
  {
   "cell_type": "code",
   "execution_count": 25,
   "metadata": {
    "collapsed": false,
    "scrolled": false
   },
   "outputs": [
    {
     "name": "stdout",
     "output_type": "stream",
     "text": [
      "(5210, 4676)\n"
     ]
    }
   ],
   "source": [
    "import redis\n",
    "import time \n",
    "import numpy as np\n",
    "from sklearn.feature_extraction.text import TfidfVectorizer\n",
    "import numpy as np\n",
    "import base64\n",
    "import pickle\n",
    "from collections import defaultdict\n",
    "rDB = redis.Redis(host='localhost', port=6379, db=0)\n",
    "def store_numpy(name,mat):\n",
    "    \"\"\"\n",
    "      Creates a matrix from a numpy matrix\n",
    "    \"\"\"\n",
    "    if len(mat.shape) != 2:\n",
    "        raise BaseException('Shape of input matrix must be of size 2')\n",
    "    rows,cols = mat.shape\n",
    "    array_dtype = str(mat.dtype)\n",
    "    m = mat.ravel().tostring()\n",
    "    key = '{0}|{1}#{2}#{3}'.format(int(time.time()), array_dtype, rows, cols)\n",
    "    rDB.set(name,m)\n",
    "    return key\n",
    "\n",
    "def get_numpy(name,key):\n",
    "    d_mat = rDB.get(name)\n",
    "    array_dtype, row, col = key.split('|')[1].split('#')\n",
    "    return np.fromstring(d_mat, dtype=array_dtype).reshape(int(row), int(col))\n",
    "def set_builder(lst):\n",
    "    output = []\n",
    "    for l in lst:\n",
    "        output+=list(set(l))\n",
    "    return list(set(output))\n",
    "pipe = rDB.pipeline()\n",
    "keys = ['doc_by_vocab_data']\n",
    "[pipe.get(k) for k in keys]\n",
    "result = pipe.execute()\n",
    "data = {k:result[i] for i,k in enumerate(keys)}\n",
    "key = data['doc_by_vocab_data']\n",
    "doc_by_vocab = get_numpy('doc_by_vocab',key)\n",
    "print(doc_by_vocab.shape)"
   ]
  },
  {
   "cell_type": "code",
   "execution_count": 26,
   "metadata": {
    "collapsed": false
   },
   "outputs": [
    {
     "data": {
      "text/plain": [
       "dtype('float64')"
      ]
     },
     "execution_count": 26,
     "metadata": {},
     "output_type": "execute_result"
    }
   ],
   "source": [
    "doc_by_vocab.dtype"
   ]
  },
  {
   "cell_type": "code",
   "execution_count": 27,
   "metadata": {
    "collapsed": false
   },
   "outputs": [],
   "source": [
    "vocab_to_index = pickle.loads(rDB.get('vocab_to_index'))\n",
    "index_to_vocab = pickle.loads(rDB.get('index_to_vocab'))\n",
    "episode_to_index = pickle.loads(rDB.get('e_t_to_i'))\n",
    "index_to_episode = pickle.loads(rDB.get('e_i_to_t'))\n",
    "series_to_index = pickle.loads(rDB.get('s_t_to_i'))\n",
    "index_to_series = pickle.loads(rDB.get('s_i_to_t'))\n",
    "series_episodes = pickle.loads(rDB.get('series_episodes'))\n",
    "episode_tags = pickle.loads(rDB.get('e_tags'))"
   ]
  },
  {
   "cell_type": "code",
   "execution_count": 28,
   "metadata": {
    "collapsed": true
   },
   "outputs": [],
   "source": [
    "n_users = 1"
   ]
  },
  {
   "cell_type": "code",
   "execution_count": 29,
   "metadata": {
    "collapsed": false
   },
   "outputs": [],
   "source": [
    "index_to_tag = set_builder(episode_tags.values())\n",
    "n_tags = len(index_to_tag)\n",
    "tag_to_index = {t:i for i,t in enumerate(index_to_tag)}\n",
    "episode_tag_matrix = np.zeros([len(index_to_episode),n_tags])\n",
    "for i in xrange(n_tags):\n",
    "    for tag in episode_tags[index_to_episode[i]]:\n",
    "        episode_tag_matrix[i][tag_to_index[tag]] = 1"
   ]
  },
  {
   "cell_type": "code",
   "execution_count": 30,
   "metadata": {
    "collapsed": false
   },
   "outputs": [
    {
     "name": "stdout",
     "output_type": "stream",
     "text": [
      "____________________________________________________________________________________________________\n",
      "Layer (type)                     Output Shape          Param #     Connected to                     \n",
      "====================================================================================================\n",
      "input_7 (InputLayer)             (None, 1)             0                                            \n",
      "____________________________________________________________________________________________________\n",
      "embedding_3 (Embedding)          (None, 1, 5)          5                                            \n",
      "____________________________________________________________________________________________________\n",
      "input_9 (InputLayer)             (None, 4676)          0                                            \n",
      "____________________________________________________________________________________________________\n",
      "flatten_3 (Flatten)              (None, 5)             0                                            \n",
      "____________________________________________________________________________________________________\n",
      "dense_3 (Dense)                  (None, 5)             23385                                        \n",
      "____________________________________________________________________________________________________\n",
      "dot_3 (Dot)                      (None, 1)             0                                            \n",
      "====================================================================================================\n",
      "Total params: 23,390.0\n",
      "Trainable params: 23,390.0\n",
      "Non-trainable params: 0.0\n",
      "____________________________________________________________________________________________________\n"
     ]
    }
   ],
   "source": [
    "from keras.layers import Dense, Input, Embedding, Flatten, SimpleRNN\n",
    "from keras.models import Model\n",
    "from keras.layers.merge import dot\n",
    "from keras.losses import mean_squared_error\n",
    "user_in = Input(shape=(1,), dtype = 'int32')\n",
    "true_rating_in = Input((1,), dtype = 'float32')\n",
    "meta_features_in = Input(shape=(doc_by_vocab.shape[1],), dtype = 'float32')\n",
    "user_embeddings = Embedding(n_users, 5)\n",
    "user_encoded = Flatten()(user_embeddings(user_in))\n",
    "episode_encoded = Dense(5)(meta_features_in)\n",
    "prediction = dot([user_encoded, episode_encoded], axes = 1)\n",
    "model = Model(inputs = [user_in, meta_features_in,true_rating_in],\n",
    "                     outputs = prediction)\n",
    "model.compile(loss = 'mse', optimizer = 'adam')\n",
    "model.summary()"
   ]
  },
  {
   "cell_type": "code",
   "execution_count": 38,
   "metadata": {
    "collapsed": false
   },
   "outputs": [],
   "source": [
    "ratings = np.zeros((doc_by_vocab.shape[0],n_users))\n",
    "series_name = index_to_series[437]\n",
    "series_name2 = index_to_series[137]\n",
    "for i in [episode_to_index[e] for e in series_episodes[series_name]]:\n",
    "    ratings[i] = 1.0\n",
    "for i in [episode_to_index[e] for e in series_episodes[series_name2]]:\n",
    "    ratings[i] = 1.0\n",
    "# for i in [k for k,v in episode_tags.iteritems() if ('comedy' in v) or ('humor' in v)]:\n",
    "#     ratings[i] = 5.0\n",
    "users = np.zeros((doc_by_vocab.shape[0],1))\n",
    "labels = np.zeros((doc_by_vocab.shape[0],1))"
   ]
  },
  {
   "cell_type": "code",
   "execution_count": 37,
   "metadata": {
    "collapsed": false
   },
   "outputs": [
    {
     "name": "stdout",
     "output_type": "stream",
     "text": [
      "Epoch 1/10\n",
      "5210/5210 [==============================] - 0s - loss: 1.1117e-20     \n",
      "Epoch 2/10\n",
      "5210/5210 [==============================] - 0s - loss: 1.1931e-23     \n",
      "Epoch 3/10\n",
      "5210/5210 [==============================] - 0s - loss: 1.1840e-25     \n",
      "Epoch 4/10\n",
      "5210/5210 [==============================] - 0s - loss: 1.5364e-26     \n",
      "Epoch 5/10\n",
      "5210/5210 [==============================] - 0s - loss: 6.8748e-26     \n",
      "Epoch 6/10\n",
      "5210/5210 [==============================] - 0s - loss: 6.7915e-25     \n",
      "Epoch 7/10\n",
      "5210/5210 [==============================] - 0s - loss: 6.1310e-24     \n",
      "Epoch 8/10\n",
      "5210/5210 [==============================] - 0s - loss: 2.2416e-22     \n",
      "Epoch 9/10\n",
      "5210/5210 [==============================] - 0s - loss: 2.6723e-18     \n",
      "Epoch 10/10\n",
      "5210/5210 [==============================] - 0s - loss: 5.3231e-13     \n"
     ]
    },
    {
     "data": {
      "text/plain": [
       "<keras.callbacks.History at 0x11e7eed50>"
      ]
     },
     "execution_count": 37,
     "metadata": {},
     "output_type": "execute_result"
    }
   ],
   "source": [
    "model.fit([users,doc_by_vocab,ratings],labels,epochs=10)"
   ]
  },
  {
   "cell_type": "code",
   "execution_count": 46,
   "metadata": {
    "collapsed": false
   },
   "outputs": [
    {
     "data": {
      "text/plain": [
       "['BSCC 011 - Kristy and the Snobs',\n",
       " '42. The Big Reveal',\n",
       " 'Texting in A Movie Makes You An Asshole w/ Anton Yelchin & Jeremy Saulnier! LMMT #12',\n",
       " 'Episode 062: How Thoughts Can Heal',\n",
       " '26: Does Jenny Have What it Takes? Her Family Members Get Brutally Honest',\n",
       " \"019 - Tim's Kids - Spoiled Rich Kid, Flip Phones and Hockey Talk\",\n",
       " 'The Dave Portnoy Show Preview',\n",
       " 'DRUNK FLORIDA MAN ATTACKS SKYDOESMINECRAFT?! uh oh LMMT #21',\n",
       " '065: Why I Budget Monthly, Semi-Monthly and Weekly by Cait Flanders of Blonde On A Budget (Track Income & Expenses Free)',\n",
       " 'Ep 51: The Wild West of Microblading']"
      ]
     },
     "execution_count": 46,
     "metadata": {},
     "output_type": "execute_result"
    }
   ],
   "source": [
    "[index_to_episode[e_i] for e_i in np.array([model.predict([np.array([0]),doc_by_vocab[v].reshape(1,4676),np.array([1.])], batch_size=32, verbose=2)[0][0] for v in range(doc_by_vocab.shape[0])]).argsort()][:10]"
   ]
  },
  {
   "cell_type": "code",
   "execution_count": 63,
   "metadata": {
    "collapsed": false
   },
   "outputs": [
    {
     "ename": "IndexError",
     "evalue": "tuple index out of range",
     "output_type": "error",
     "traceback": [
      "\u001b[0;31m---------------------------------------------------------------------------\u001b[0m",
      "\u001b[0;31mIndexError\u001b[0m                                Traceback (most recent call last)",
      "\u001b[0;32m<ipython-input-63-e3038fb214d6>\u001b[0m in \u001b[0;36m<module>\u001b[0;34m()\u001b[0m\n\u001b[1;32m     16\u001b[0m \u001b[0mepisode_encoded\u001b[0m \u001b[0;34m=\u001b[0m \u001b[0mFlatten\u001b[0m\u001b[0;34m(\u001b[0m\u001b[0;34m)\u001b[0m\u001b[0;34m(\u001b[0m\u001b[0mepisode_embeddings\u001b[0m\u001b[0;34m(\u001b[0m\u001b[0mmeta_features_in\u001b[0m\u001b[0;34m)\u001b[0m\u001b[0;34m)\u001b[0m\u001b[0;34m\u001b[0m\u001b[0m\n\u001b[1;32m     17\u001b[0m \u001b[0mepisode_first_dropout\u001b[0m \u001b[0;34m=\u001b[0m \u001b[0mDropout\u001b[0m\u001b[0;34m(\u001b[0m\u001b[0;36m0.1\u001b[0m\u001b[0;34m)\u001b[0m\u001b[0;34m(\u001b[0m\u001b[0mepisode_encoded\u001b[0m\u001b[0;34m)\u001b[0m\u001b[0;34m\u001b[0m\u001b[0m\n\u001b[0;32m---> 18\u001b[0;31m \u001b[0mepisode_post_first_rnn\u001b[0m \u001b[0;34m=\u001b[0m \u001b[0mBidirectional\u001b[0m\u001b[0;34m(\u001b[0m\u001b[0mGRU\u001b[0m\u001b[0;34m(\u001b[0m\u001b[0munits\u001b[0m\u001b[0;34m=\u001b[0m\u001b[0;36m400\u001b[0m\u001b[0;34m)\u001b[0m\u001b[0;34m)\u001b[0m\u001b[0;34m(\u001b[0m\u001b[0mepisode_encoded\u001b[0m\u001b[0;34m)\u001b[0m\u001b[0;34m\u001b[0m\u001b[0m\n\u001b[0m\u001b[1;32m     19\u001b[0m \u001b[0mepisode_second_dropout\u001b[0m \u001b[0;34m=\u001b[0m \u001b[0mDropout\u001b[0m\u001b[0;34m(\u001b[0m\u001b[0;36m0.5\u001b[0m\u001b[0;34m)\u001b[0m\u001b[0;34m(\u001b[0m\u001b[0mepisode_post_first_rnn\u001b[0m\u001b[0;34m)\u001b[0m\u001b[0;34m\u001b[0m\u001b[0m\n\u001b[1;32m     20\u001b[0m \u001b[0mepisode_post_second_rnn\u001b[0m \u001b[0;34m=\u001b[0m \u001b[0mBidirectional\u001b[0m\u001b[0;34m(\u001b[0m\u001b[0mGRU\u001b[0m\u001b[0;34m(\u001b[0m\u001b[0munits\u001b[0m\u001b[0;34m=\u001b[0m\u001b[0;36m200\u001b[0m\u001b[0;34m)\u001b[0m\u001b[0;34m)\u001b[0m\u001b[0;34m(\u001b[0m\u001b[0mepisode_second_dropout\u001b[0m\u001b[0;34m)\u001b[0m\u001b[0;34m\u001b[0m\u001b[0m\n",
      "\u001b[0;32m/Users/ilanfilonenko/podcastML/podcastenv/lib/python2.7/site-packages/keras/engine/topology.pyc\u001b[0m in \u001b[0;36m__call__\u001b[0;34m(self, inputs, **kwargs)\u001b[0m\n\u001b[1;32m    526\u001b[0m                                          '`layer.build(batch_input_shape)`')\n\u001b[1;32m    527\u001b[0m                 \u001b[0;32mif\u001b[0m \u001b[0mlen\u001b[0m\u001b[0;34m(\u001b[0m\u001b[0minput_shapes\u001b[0m\u001b[0;34m)\u001b[0m \u001b[0;34m==\u001b[0m \u001b[0;36m1\u001b[0m\u001b[0;34m:\u001b[0m\u001b[0;34m\u001b[0m\u001b[0m\n\u001b[0;32m--> 528\u001b[0;31m                     \u001b[0mself\u001b[0m\u001b[0;34m.\u001b[0m\u001b[0mbuild\u001b[0m\u001b[0;34m(\u001b[0m\u001b[0minput_shapes\u001b[0m\u001b[0;34m[\u001b[0m\u001b[0;36m0\u001b[0m\u001b[0;34m]\u001b[0m\u001b[0;34m)\u001b[0m\u001b[0;34m\u001b[0m\u001b[0m\n\u001b[0m\u001b[1;32m    529\u001b[0m                 \u001b[0;32melse\u001b[0m\u001b[0;34m:\u001b[0m\u001b[0;34m\u001b[0m\u001b[0m\n\u001b[1;32m    530\u001b[0m                     \u001b[0mself\u001b[0m\u001b[0;34m.\u001b[0m\u001b[0mbuild\u001b[0m\u001b[0;34m(\u001b[0m\u001b[0minput_shapes\u001b[0m\u001b[0;34m)\u001b[0m\u001b[0;34m\u001b[0m\u001b[0m\n",
      "\u001b[0;32m/Users/ilanfilonenko/podcastML/podcastenv/lib/python2.7/site-packages/keras/layers/wrappers.pyc\u001b[0m in \u001b[0;36mbuild\u001b[0;34m(self, input_shape)\u001b[0m\n\u001b[1;32m    230\u001b[0m \u001b[0;34m\u001b[0m\u001b[0m\n\u001b[1;32m    231\u001b[0m     \u001b[0;32mdef\u001b[0m \u001b[0mbuild\u001b[0m\u001b[0;34m(\u001b[0m\u001b[0mself\u001b[0m\u001b[0;34m,\u001b[0m \u001b[0minput_shape\u001b[0m\u001b[0;34m)\u001b[0m\u001b[0;34m:\u001b[0m\u001b[0;34m\u001b[0m\u001b[0m\n\u001b[0;32m--> 232\u001b[0;31m         \u001b[0mself\u001b[0m\u001b[0;34m.\u001b[0m\u001b[0mforward_layer\u001b[0m\u001b[0;34m.\u001b[0m\u001b[0mbuild\u001b[0m\u001b[0;34m(\u001b[0m\u001b[0minput_shape\u001b[0m\u001b[0;34m)\u001b[0m\u001b[0;34m\u001b[0m\u001b[0m\n\u001b[0m\u001b[1;32m    233\u001b[0m         \u001b[0mself\u001b[0m\u001b[0;34m.\u001b[0m\u001b[0mbackward_layer\u001b[0m\u001b[0;34m.\u001b[0m\u001b[0mbuild\u001b[0m\u001b[0;34m(\u001b[0m\u001b[0minput_shape\u001b[0m\u001b[0;34m)\u001b[0m\u001b[0;34m\u001b[0m\u001b[0m\n\u001b[1;32m    234\u001b[0m         \u001b[0mself\u001b[0m\u001b[0;34m.\u001b[0m\u001b[0mbuilt\u001b[0m \u001b[0;34m=\u001b[0m \u001b[0mTrue\u001b[0m\u001b[0;34m\u001b[0m\u001b[0m\n",
      "\u001b[0;32m/Users/ilanfilonenko/podcastML/podcastenv/lib/python2.7/site-packages/keras/layers/recurrent.pyc\u001b[0m in \u001b[0;36mbuild\u001b[0;34m(self, input_shape)\u001b[0m\n\u001b[1;32m    678\u001b[0m \u001b[0;34m\u001b[0m\u001b[0m\n\u001b[1;32m    679\u001b[0m         \u001b[0mbatch_size\u001b[0m \u001b[0;34m=\u001b[0m \u001b[0minput_shape\u001b[0m\u001b[0;34m[\u001b[0m\u001b[0;36m0\u001b[0m\u001b[0;34m]\u001b[0m \u001b[0;32mif\u001b[0m \u001b[0mself\u001b[0m\u001b[0;34m.\u001b[0m\u001b[0mstateful\u001b[0m \u001b[0;32melse\u001b[0m \u001b[0mNone\u001b[0m\u001b[0;34m\u001b[0m\u001b[0m\n\u001b[0;32m--> 680\u001b[0;31m         \u001b[0mself\u001b[0m\u001b[0;34m.\u001b[0m\u001b[0minput_dim\u001b[0m \u001b[0;34m=\u001b[0m \u001b[0minput_shape\u001b[0m\u001b[0;34m[\u001b[0m\u001b[0;36m2\u001b[0m\u001b[0;34m]\u001b[0m\u001b[0;34m\u001b[0m\u001b[0m\n\u001b[0m\u001b[1;32m    681\u001b[0m         \u001b[0mself\u001b[0m\u001b[0;34m.\u001b[0m\u001b[0minput_spec\u001b[0m \u001b[0;34m=\u001b[0m \u001b[0mInputSpec\u001b[0m\u001b[0;34m(\u001b[0m\u001b[0mshape\u001b[0m\u001b[0;34m=\u001b[0m\u001b[0;34m(\u001b[0m\u001b[0mbatch_size\u001b[0m\u001b[0;34m,\u001b[0m \u001b[0mNone\u001b[0m\u001b[0;34m,\u001b[0m \u001b[0mself\u001b[0m\u001b[0;34m.\u001b[0m\u001b[0minput_dim\u001b[0m\u001b[0;34m)\u001b[0m\u001b[0;34m)\u001b[0m\u001b[0;34m\u001b[0m\u001b[0m\n\u001b[1;32m    682\u001b[0m         \u001b[0mself\u001b[0m\u001b[0;34m.\u001b[0m\u001b[0mstate_spec\u001b[0m \u001b[0;34m=\u001b[0m \u001b[0mInputSpec\u001b[0m\u001b[0;34m(\u001b[0m\u001b[0mshape\u001b[0m\u001b[0;34m=\u001b[0m\u001b[0;34m(\u001b[0m\u001b[0mbatch_size\u001b[0m\u001b[0;34m,\u001b[0m \u001b[0mself\u001b[0m\u001b[0;34m.\u001b[0m\u001b[0munits\u001b[0m\u001b[0;34m)\u001b[0m\u001b[0;34m)\u001b[0m\u001b[0;34m\u001b[0m\u001b[0m\n",
      "\u001b[0;31mIndexError\u001b[0m: tuple index out of range"
     ]
    }
   ],
   "source": [
    "from keras.layers import Dense, Input, Embedding, Flatten, Dropout, Bidirectional, GRU\n",
    "from keras.models import Model\n",
    "from keras.layers.merge import dot\n",
    "from keras.layers.pooling import AveragePooling1D\n",
    "from keras.losses import mean_squared_error\n",
    "from keras.regularizers import l2 as l2reg\n",
    "\n",
    "user_in = Input(shape=(1,), dtype = 'int32')\n",
    "true_rating_in = Input((1,), dtype = 'float32')\n",
    "meta_features_in = Input(shape=(doc_by_vocab.shape[1],), dtype = 'float32')\n",
    "##########\n",
    "user_embeddings = Embedding(n_users, 200)\n",
    "user_encoded = Flatten()(user_embeddings(user_in))\n",
    "##########\n",
    "episode_embeddings = Embedding(doc_by_vocab.shape[1], 200,embeddings_regularizer=l2reg(0.01))\n",
    "episode_encoded = Flatten()(episode_embeddings(meta_features_in))\n",
    "episode_first_dropout = Dropout(0.1)(episode_encoded)\n",
    "episode_post_first_rnn = Bidirectional(GRU(units=400))(episode_first_dropout)\n",
    "episode_second_dropout = Dropout(0.5)(episode_post_first_rnn)\n",
    "episode_post_second_rnn = Bidirectional(GRU(units=200))(episode_second_dropout)\n",
    "episode_third_dropout = Dropout(0.3)(episode_post_second_rnn)\n",
    "episode_encoded_final = AveragePooling1D()(episode_third_dropout)\n",
    "prediction = dot([user_encoded, episode_encoded_final], axes = 1)\n",
    "model = Model(inputs = [user_in, meta_features_in,true_rating_in],\n",
    "                     outputs = prediction)\n",
    "model.compile(loss = 'mse', optimizer = 'adam')\n",
    "model.summary()"
   ]
  },
  {
   "cell_type": "code",
   "execution_count": null,
   "metadata": {
    "collapsed": true
   },
   "outputs": [],
   "source": []
  }
 ],
 "metadata": {
  "kernelspec": {
   "display_name": "podcastenv",
   "language": "python",
   "name": "podcastenv"
  },
  "language_info": {
   "codemirror_mode": {
    "name": "ipython",
    "version": 2
   },
   "file_extension": ".py",
   "mimetype": "text/x-python",
   "name": "python",
   "nbconvert_exporter": "python",
   "pygments_lexer": "ipython2",
   "version": "2.7.10"
  }
 },
 "nbformat": 4,
 "nbformat_minor": 0
}
