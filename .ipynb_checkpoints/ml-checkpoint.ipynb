{
 "cells": [
  {
   "cell_type": "markdown",
   "metadata": {},
   "source": [
    "## Python Core Demo\n",
    "\n",
    "How to use the python core from a Jupyter notebook. It also shows how to debug the JSON application configs which are used to connect to external database(s) and redis server(s).\n"
   ]
  },
  {
   "cell_type": "code",
   "execution_count": 118,
   "metadata": {
    "collapsed": false,
    "scrolled": false
   },
   "outputs": [],
   "source": [
    "import redis\n",
    "import time \n",
    "import numpy as np\n",
    "from sklearn.feature_extraction.text import TfidfVectorizer\n",
    "import numpy as np\n",
    "import base64\n",
    "import pickle\n",
    "from collections import defaultdict\n",
    "rDB = redis.Redis(host='localhost', port=6379, db=0)\n",
    "# The key under which the list of executable jobs is accessible\n",
    "FREE_JOBS_KEY = '{0}:free_jobs'\n",
    "# The Pub/Sub channel where clients report the results of a job execution\n",
    "JOB_RESULTS_CHANNEL = '{0}:c_results'\n",
    "# The key from which the id for a new job can be retrieved\n",
    "JOB_IDS_KEY = '{0}:job_ids'\n",
    "# The format for the key under which connection information for a slave is saved\n",
    "SLAVE_KEY = '{0}:slave:{1}'\n",
    "# The format for the key under which the list of slaves for a server is saved\n",
    "SLAVE_LIST_KEY = '{0}:slaves'\n",
    "# The key under which a list of successfully executed jobs is saved\n",
    "FINISHED_JOBS_KEY = '{0}:finished_jobs'\n",
    "# The format of block names\n",
    "BLOCK_NAME_FORMAT = '{0}:{1}:{2}'\n",
    "# The format of the key where matrix information is saved\n",
    "INFO_FORMAT         = '{0}:info'\n",
    "# The format of a matrix name, where argument 0 is a counter and argument 1 a random number\n",
    "MATRIX_NAME_FORMAT     = 'matrix{0}_{1}'\n",
    "import numpy as np \n",
    "import redis\n",
    "import math\n",
    "\n",
    "class Matrix:\n",
    "    def __init__(self, name, rows, cols, rdb,block_size=256):\n",
    "        self.__name = name\n",
    "        self.__rows = rows\n",
    "        self.__cols = cols\n",
    "        self.shape = (self.__rows, self.__cols)\n",
    "        self.__persist = False\n",
    "        self.rdb = rdb\n",
    "        self.__block_size = int(block_size)\n",
    "\n",
    "    def dumps(matrix):\n",
    "        flat = []\n",
    "        flat.append(str(matrix.shape[0]))\n",
    "        flat.append(',')\n",
    "        flat.append(str(matrix.shape[1]))\n",
    "        \n",
    "        zero_count = 0\n",
    "        for e in matrix.flat:\n",
    "            if e == 0:\n",
    "                zero_count += 1\n",
    "            else:\n",
    "                if zero_count != 0:\n",
    "                    if zero_count < 3:\n",
    "                        for i in range(0,zero_count):\n",
    "                            flat.append(';0')\n",
    "                    else:\n",
    "                        flat.append(';')\n",
    "                        flat.append('x')\n",
    "                        flat.append(str(zero_count))\n",
    "                        \n",
    "                    zero_count = 0\n",
    "\n",
    "                flat.append(';')\n",
    "                flat.append(str(e))\n",
    "        return ''.join(flat)\n",
    "        \n",
    "    def loads(s):\n",
    "        elements = s.split(';')\n",
    "        shape = elements[0].split(',')\n",
    "        width = int(shape[0])\n",
    "        height = int(shape[1])\n",
    "        flat = []\n",
    "        for e in elements[1:]:\n",
    "            if e[0] == 'x':\n",
    "                num = int(e[1:])\n",
    "                for i in range(0,num):\n",
    "                    flat.append(0)\n",
    "            else:\n",
    "                flat.append(float(e))\n",
    "        return np.reshape(flat, (width, height))\n",
    "\n",
    "    def create_block(self, block_name, data):\n",
    "        return self.rdb.set(block_name, data.dumps())\n",
    "\n",
    "    def get_block(self, block_name):\n",
    "        return np.loads(self.rdb.get(block_name))\n",
    "    \n",
    "    def get_value(self, key):\n",
    "        return self.rdb.get(key)\n",
    "        \n",
    "    def set_value(self, key, value):\n",
    "        return self.rdb.set(key, value)\n",
    "     \n",
    "    def delete_block(self, block_name):\n",
    "        return self.rdb.delete(block_name)\n",
    "\n",
    "    def row_blocks(self):\n",
    "        \"\"\"\n",
    "            Returns the number of row blocks this matrix is divided into\n",
    "        \"\"\"\n",
    "        return int(math.ceil(float(self.__rows) / self.__block_size))\n",
    "        \n",
    "    def col_blocks(self):\n",
    "        \"\"\"\n",
    "            Returns the number of column blocks this matrix is divided into\n",
    "        \"\"\"\n",
    "        return int(math.ceil(float(self.__cols) / self.__block_size))\n",
    "    \n",
    "    def block_name(self, row, col):\n",
    "        \"\"\"\n",
    "            Returns the redis key for the block at the given index\n",
    "        \"\"\"\n",
    "        return BLOCK_NAME_FORMAT.format(self.__name, row, col)\n",
    "    \n",
    "    def row_block_names(self, row):\n",
    "        \"\"\"\n",
    "            Returns a list of keys of all blocks in a given row\n",
    "        \"\"\"\n",
    "        result = []\n",
    "        y = self.row_blocks()\n",
    "        \n",
    "        for j in range(0,y):\n",
    "            result.append(self.block_name(row, j))\n",
    "        return result\n",
    "        \n",
    "    def col_block_names(self, col):\n",
    "        \"\"\"\n",
    "            Returns a list of keys of all blocks in a given column\n",
    "        \"\"\"\n",
    "        result = []\n",
    "        x = self.col_blocks()\n",
    "        \n",
    "        for i in range(0,x):\n",
    "            result.append(self.block_name(i, col))\n",
    "        return result\n",
    "        \n",
    "    def block_names(self):\n",
    "        \"\"\"\n",
    "            Returns a list with all block keys\n",
    "        \"\"\"\n",
    "        x = self.col_blocks()\n",
    "        y = self.row_blocks()\n",
    "\n",
    "        result = []\n",
    "        for j in range(0,y):\n",
    "            for i in range(0,x):\n",
    "                result.append(self.block_name(j, i))\n",
    "        return result\n",
    "    \n",
    "    def is_quadratic(self):\n",
    "        \"\"\"\n",
    "           Returns true if the number of rows equals the number of columns \n",
    "        \"\"\"\n",
    "        return self.__rows == self.__cols\n",
    "    \n",
    "    def set_cell_value(self, row, col, val):\n",
    "        \"\"\"\n",
    "            Sets the value of a single matrix cell\n",
    "        \"\"\"\n",
    "        block_row = int(math.floor(row / self.__block_size))\n",
    "        block_col = int(math.floor(col / self.__block_size))\n",
    "        offset_row = row % self.__block_size\n",
    "        offset_col = col % self.__block_size\n",
    "        block_name = self.block_name(block_row, block_col)\n",
    "        block = self.get_block(block_name)\n",
    "        block[offset_row, offset_col] = val\n",
    "        self.create_block(block_name, block)\n",
    "    \n",
    "    def get_cell_value(self, row, col):\n",
    "        \"\"\"\n",
    "            Returns the value of a single matrix cell\n",
    "        \"\"\"\n",
    "        block_row = int(math.floor(row / self.__block_size))\n",
    "        block_col = int(math.floor(col / self.__block_size))\n",
    "        offset_row = row % self.__block_size\n",
    "        offset_col = col % self.__block_size\n",
    "        block = self.get_block(self.block_name(block_row, block_col))\n",
    "        return block[offset_row, offset_col]\n",
    "    \n",
    "    def get_numpy_block(self, row, col):\n",
    "        \"\"\"\n",
    "            Returns a block as nump matrix\n",
    "        \"\"\"\n",
    "        return self.get_block(self.block_name(row, col))\n",
    "        \n",
    "    def get_numpy_matrix(self):\n",
    "        \"\"\"\n",
    "            Concatenates all blocks of this matrix and returns one big numpy matrix\n",
    "        \"\"\"\n",
    "        m = None\n",
    "        for row in range(0,self.row_blocks()):\n",
    "            b = self.get_block(self.block_name(row, 0))\n",
    "            #print self.block_name(row, 0)\n",
    "            for col in range(1,self.col_blocks()):\n",
    "                if row == 0 and col == 0:\n",
    "                    continue\n",
    "                #print self.block_name(row, col)\n",
    "                #print '---'\n",
    "                n = self.get_block(self.block_name(row, col))\n",
    "                b = np.concatenate((b, n), axis=1)\n",
    "            if m is None:\n",
    "                m = b \n",
    "            else:\n",
    "                m = np.concatenate((m, b))\n",
    "        return m\n",
    "\n",
    "\n",
    "def get_numpy(name,loc):\n",
    "    row,col = rDB.get(loc).split('|')\n",
    "    return Matrix(name,row,col,rDB).get_numpy_matrix()"
   ]
  },
  {
   "cell_type": "code",
   "execution_count": 119,
   "metadata": {
    "collapsed": true
   },
   "outputs": [],
   "source": [
    "import json\n",
    "import base64\n",
    "\n",
    "class NumpyEncoder(json.JSONEncoder):\n",
    "\n",
    "    def default(self, obj):\n",
    "        \"\"\"If input object is an ndarray it will be converted into a dict \n",
    "        holding dtype, shape and the data, base64 encoded.\n",
    "        \"\"\"\n",
    "        if isinstance(obj, np.ndarray):\n",
    "            if obj.flags['C_CONTIGUOUS']:\n",
    "                obj_data = obj.data\n",
    "            else:\n",
    "                cont_obj = np.ascontiguousarray(obj)\n",
    "                assert(cont_obj.flags['C_CONTIGUOUS'])\n",
    "                obj_data = cont_obj.data\n",
    "            data_b64 = base64.b64encode(obj_data)\n",
    "            return dict(__ndarray__=data_b64,\n",
    "                        dtype=str(obj.dtype),\n",
    "                        shape=obj.shape)\n",
    "        # Let the base class default method raise the TypeError\n",
    "        return json.JSONEncoder(self, obj)\n",
    "        \n",
    "def json_numpy_obj_hook(dct):\n",
    "    \"\"\"Decodes a previously encoded numpy ndarray with proper shape and dtype.\n",
    "    :param dct: (dict) json encoded ndarray\n",
    "    :return: (ndarray) if input was an encoded ndarray\n",
    "    \"\"\"\n",
    "    if isinstance(dct, dict) and '__ndarray__' in dct:\n",
    "        data = base64.b64decode(dct['__ndarray__'])\n",
    "        return np.frombuffer(data, dct['dtype']).reshape(dct['shape'])\n",
    "    return dct"
   ]
  },
  {
   "cell_type": "code",
   "execution_count": 120,
   "metadata": {
    "collapsed": false
   },
   "outputs": [],
   "source": [
    "episode_to_index = pickle.loads(rDB.get('e_t_to_i'))\n",
    "index_to_episode = pickle.loads(rDB.get('e_i_to_t'))\n",
    "series_to_index = pickle.loads(rDB.get('s_t_to_i'))\n",
    "index_to_series = pickle.loads(rDB.get('s_i_to_t'))\n",
    "series_episodes = pickle.loads(rDB.get('series_episodes'))\n",
    "episode_tags = pickle.loads(rDB.get('e_tags'))\n",
    "doc_data = pickle.loads(rDB.get('doc_data'))"
   ]
  },
  {
   "cell_type": "code",
   "execution_count": 122,
   "metadata": {
    "collapsed": false
   },
   "outputs": [],
   "source": [
    "from bs4 import BeautifulSoup\n",
    "filtered_data = [BeautifulSoup(d,\"html5lib\").get_text() for d in doc_data]"
   ]
  },
  {
   "cell_type": "code",
   "execution_count": 125,
   "metadata": {
    "collapsed": false
   },
   "outputs": [],
   "source": [
    "n_feats = 10000\n",
    "tfidf_vec = TfidfVectorizer(input='context',min_df=10,max_df=0.85,max_features=n_feats,stop_words='english',norm='l2')\n",
    "doc_by_vocab = np.empty([len(episode_to_index),n_feats])\n",
    "doc_by_vocab = tfidf_vec.fit_transform(filtered_data).toarray()\n",
    "index_to_vocab = tfidf_vec.get_feature_names()\n",
    "vocab_to_index = {v:i for i,v in enumerate(index_to_vocab) }"
   ]
  },
  {
   "cell_type": "code",
   "execution_count": 126,
   "metadata": {
    "collapsed": false
   },
   "outputs": [
    {
     "data": {
      "text/plain": [
       "(83216, 10000)"
      ]
     },
     "execution_count": 126,
     "metadata": {},
     "output_type": "execute_result"
    }
   ],
   "source": [
    "doc_by_vocab.shape"
   ]
  },
  {
   "cell_type": "code",
   "execution_count": 127,
   "metadata": {
    "collapsed": false
   },
   "outputs": [],
   "source": [
    "from scipy.sparse.linalg import svds\n",
    "u, s, v_trans = svds(doc_by_vocab, k=100)"
   ]
  },
  {
   "cell_type": "code",
   "execution_count": 128,
   "metadata": {
    "collapsed": false
   },
   "outputs": [
    {
     "name": "stdout",
     "output_type": "stream",
     "text": [
      "(83216, 100)\n",
      "(100,)\n",
      "(100, 10000)\n"
     ]
    },
    {
     "data": {
      "image/png": "[encoded data removed]",
      "text/plain": [
       "<matplotlib.figure.Figure at 0x129a3e6d0>"
      ]
     },
     "metadata": {},
     "output_type": "display_data"
    }
   ],
   "source": [
    "print(u.shape)\n",
    "print(s.shape)\n",
    "print(v_trans.shape)\n",
    "import matplotlib\n",
    "import numpy as np\n",
    "import matplotlib.pyplot as plt\n",
    "%matplotlib inline\n",
    "plt.plot(s[::-1])\n",
    "plt.xlabel(\"Singular value number\")\n",
    "plt.ylabel(\"Singular value\")\n",
    "plt.show()"
   ]
  },
  {
   "cell_type": "code",
   "execution_count": 129,
   "metadata": {
    "collapsed": true
   },
   "outputs": [],
   "source": [
    "n_users = 1"
   ]
  },
  {
   "cell_type": "code",
   "execution_count": 130,
   "metadata": {
    "collapsed": true
   },
   "outputs": [],
   "source": [
    "def set_builder(lst):\n",
    "    output = []\n",
    "    for l in lst:\n",
    "        output+=list(set(l))\n",
    "    return list(set(output))"
   ]
  },
  {
   "cell_type": "code",
   "execution_count": 131,
   "metadata": {
    "collapsed": false
   },
   "outputs": [],
   "source": [
    "index_to_tag = set_builder(episode_tags.values())\n",
    "n_tags = len(index_to_tag)\n",
    "tag_to_index = {t:i for i,t in enumerate(index_to_tag)}\n",
    "episode_tag_matrix = np.zeros([len(index_to_episode),n_tags])\n",
    "for i in xrange(n_tags):\n",
    "    for tag in episode_tags[index_to_episode[i]]:\n",
    "        episode_tag_matrix[i][tag_to_index[tag]] = 1"
   ]
  },
  {
   "cell_type": "code",
   "execution_count": 132,
   "metadata": {
    "collapsed": false
   },
   "outputs": [
    {
     "name": "stdout",
     "output_type": "stream",
     "text": [
      "____________________________________________________________________________________________________\n",
      "Layer (type)                     Output Shape          Param #     Connected to                     \n",
      "====================================================================================================\n",
      "input_19 (InputLayer)            (None, 1)             0                                            \n",
      "____________________________________________________________________________________________________\n",
      "embedding_7 (Embedding)          (None, 1, 8)          8                                            \n",
      "____________________________________________________________________________________________________\n",
      "input_21 (InputLayer)            (None, 10000)         0                                            \n",
      "____________________________________________________________________________________________________\n",
      "flatten_7 (Flatten)              (None, 8)             0                                            \n",
      "____________________________________________________________________________________________________\n",
      "dense_7 (Dense)                  (None, 8)             80008                                        \n",
      "____________________________________________________________________________________________________\n",
      "dot_7 (Dot)                      (None, 1)             0                                            \n",
      "____________________________________________________________________________________________________\n",
      "input_20 (InputLayer)            (None, 1)             0                                            \n",
      "____________________________________________________________________________________________________\n",
      "lambda_4 (Lambda)                (None, 1)             0                                            \n",
      "====================================================================================================\n",
      "Total params: 80,016.0\n",
      "Trainable params: 80,016.0\n",
      "Non-trainable params: 0.0\n",
      "____________________________________________________________________________________________________\n"
     ]
    }
   ],
   "source": [
    "from keras.layers import Dense, Input, Embedding, Flatten, SimpleRNN, Lambda\n",
    "from keras.models import Model\n",
    "from keras.layers.merge import dot\n",
    "#from keras.losses import mean_squared_error\n",
    "import keras.backend as K\n",
    "user_in = Input(shape=(1,), dtype = 'int32')\n",
    "true_rating_in = Input((1,), dtype = 'float32')\n",
    "meta_features_in = Input(shape=(doc_by_vocab.shape[1],), dtype = 'float32')\n",
    "\n",
    "user_embeddings = Embedding(n_users, 8)\n",
    "user_encoded = Flatten()(user_embeddings(user_in))\n",
    "\n",
    "episode_encoded = Dense(8)(meta_features_in)\n",
    "prediction = dot([user_encoded, episode_encoded], axes = 1)\n",
    "error = Lambda(lambda x: K.mean(K.square(x[0] - x[1]), axis=-1, keepdims = True))\n",
    "model = Model(inputs = [user_in, meta_features_in,true_rating_in],\n",
    "                     outputs = error([prediction, true_rating_in]))\n",
    "model.compile(loss = 'mae', optimizer = 'adam')\n",
    "model.summary()"
   ]
  },
  {
   "cell_type": "code",
   "execution_count": 142,
   "metadata": {
    "collapsed": false
   },
   "outputs": [],
   "source": [
    "all_cats = list(set(np.hstack([v for k,v in episode_tags.iteritems()])))\n",
    "from collections import Counter\n",
    "top_cats_top = [ k for k in sorted(Counter(np.hstack([v for k,v in episode_tags.iteritems()])).items(), key=lambda x:x[1],reverse=True)[:100]]\n",
    "top_cats = [ k[0] for k in top_cats_top]"
   ]
  },
  {
   "cell_type": "code",
   "execution_count": 143,
   "metadata": {
    "collapsed": false
   },
   "outputs": [],
   "source": [
    "# from nltk.corpus import stopwords\n",
    "# cachedStopWords = stopwords.words(\"english\")\n",
    "\n",
    "episode_tags_filtered = {k: filter(lambda x: x in top_cats, v) for k, v in episode_tags.iteritems()}"
   ]
  },
  {
   "cell_type": "code",
   "execution_count": 145,
   "metadata": {
    "collapsed": false
   },
   "outputs": [
    {
     "data": {
      "text/plain": [
       "[('podcast', 5936),\n",
       " ('investing', 3276),\n",
       " ('market', 3105),\n",
       " ('money', 2937),\n",
       " ('comedy', 2745),\n",
       " ('radio', 2408),\n",
       " ('business', 2234),\n",
       " ('Podcast', 2130),\n",
       " ('stock', 2029),\n",
       " ('stocks', 1765),\n",
       " ('news', 1762),\n",
       " ('retirement', 1758),\n",
       " ('fiction', 1705),\n",
       " ('financial', 1666),\n",
       " ('comics', 1637),\n",
       " ('cars', 1604),\n",
       " ('automotive', 1594),\n",
       " ('Business/Automotive', 1593),\n",
       " ('horror', 1528),\n",
       " ('the', 1527),\n",
       " ('Food', 1524),\n",
       " ('management', 1445),\n",
       " ('planning', 1404),\n",
       " ('Talk Radio', 1299),\n",
       " ('podcasts', 1217),\n",
       " ('portfolio', 1199),\n",
       " ('trading', 1153),\n",
       " ('literature', 1149),\n",
       " ('John McElroy', 1145),\n",
       " ('and', 1134),\n",
       " ('comic books', 1097),\n",
       " ('finance', 1006),\n",
       " ('books', 989),\n",
       " ('Show', 977),\n",
       " ('investment', 968),\n",
       " ('Podcasts', 966),\n",
       " ('Comedy', 960),\n",
       " ('street', 956),\n",
       " ('funny', 945),\n",
       " ('skeptic', 916),\n",
       " ('time', 910),\n",
       " ('of', 905),\n",
       " ('wall', 896),\n",
       " ('sales', 888),\n",
       " ('new', 852),\n",
       " ('otr', 840),\n",
       " ('poetry', 820),\n",
       " ('Fiction', 819),\n",
       " ('drama', 802),\n",
       " ('deathsquad', 795),\n",
       " ('photography', 795),\n",
       " ('gold', 769),\n",
       " ('vintage', 759),\n",
       " ('beer brew brewing homebrew homebrewing hobby hobbies food', 737),\n",
       " ('Arts', 732),\n",
       " ('tim', 731),\n",
       " ('mystery', 715),\n",
       " ('storytelling', 707),\n",
       " ('stories', 705),\n",
       " ('joe', 704),\n",
       " ('records', 703),\n",
       " ('to', 689),\n",
       " ('old', 683),\n",
       " ('comic', 681),\n",
       " ('Hobbies', 679),\n",
       " ('Games & Hobbies', 679),\n",
       " ('classic', 675),\n",
       " ('rogan', 674),\n",
       " ('ramsey', 672),\n",
       " ('movies', 669),\n",
       " ('futures', 659),\n",
       " ('audio', 655),\n",
       " ('john', 650),\n",
       " ('entrepreneur', 645),\n",
       " ('real', 636),\n",
       " ('experience', 635),\n",
       " ('tom', 623),\n",
       " ('estate', 619),\n",
       " ('Library Foundation', 618),\n",
       " ('Los Angeles Public Library', 618),\n",
       " ('LAPL', 618),\n",
       " ('ALOUD', 618),\n",
       " ('wealth', 614),\n",
       " ('leadership', 612),\n",
       " ('story', 612),\n",
       " ('marvel comics', 611),\n",
       " ('reading', 610),\n",
       " ('dc comics', 609),\n",
       " ('science', 604),\n",
       " ('jre', 595),\n",
       " ('art', 593),\n",
       " ('invest', 591),\n",
       " ('book', 589),\n",
       " ('george', 583),\n",
       " ('writing', 581),\n",
       " ('npr', 568),\n",
       " ('advice', 567),\n",
       " ('suspense', 564),\n",
       " ('writer', 560),\n",
       " ('online', 556)]"
      ]
     },
     "execution_count": 145,
     "metadata": {},
     "output_type": "execute_result"
    }
   ],
   "source": [
    "top_cats_top"
   ]
  },
  {
   "cell_type": "code",
   "execution_count": 157,
   "metadata": {
    "collapsed": false
   },
   "outputs": [],
   "source": [
    "ratings = np.zeros((doc_by_vocab.shape[0],n_users))\n",
    "# series_name = index_to_series[328]\n",
    "# series_name2 = index_to_series[444]\n",
    "# for i in [episode_to_index[e] for e in series_episodes[series_name]]:\n",
    "#     ratings[i] = \n",
    "# for i in [episode_to_index[e] for e in series_episodes[series_name2]]:\n",
    "#     ratings[i] = 1.0\n",
    "count = 0\n",
    "for e in [k for k,v in episode_tags.iteritems() if ('comedy' in v or 'Comedy' in v)]:\n",
    "    count+=1\n",
    "    ratings[episode_to_index[e]] = 0.99\n",
    "users = np.zeros((doc_by_vocab.shape[0],))\n",
    "labels = np.zeros((doc_by_vocab.shape[0],))"
   ]
  },
  {
   "cell_type": "code",
   "execution_count": 159,
   "metadata": {
    "collapsed": false
   },
   "outputs": [
    {
     "name": "stdout",
     "output_type": "stream",
     "text": [
      "(83216,)\n",
      "(83216,)\n",
      "[[ 0.]\n",
      " [ 0.]\n",
      " [ 0.]\n",
      " ..., \n",
      " [ 0.]\n",
      " [ 0.]\n",
      " [ 0.]]\n",
      "3534\n"
     ]
    }
   ],
   "source": [
    "print(users.shape)\n",
    "print(labels.shape)\n",
    "\n",
    "print(ratings)\n",
    "print(count)"
   ]
  },
  {
   "cell_type": "code",
   "execution_count": 160,
   "metadata": {
    "collapsed": false
   },
   "outputs": [
    {
     "name": "stdout",
     "output_type": "stream",
     "text": [
      "Train on 74894 samples, validate on 8322 samples\n",
      "Epoch 1/5\n",
      "74894/74894 [==============================] - 8s - loss: 0.0210 - val_loss: 0.0229\n",
      "Epoch 2/5\n",
      "74894/74894 [==============================] - 7s - loss: 0.0193 - val_loss: 0.0226\n",
      "Epoch 3/5\n",
      "74894/74894 [==============================] - 6s - loss: 0.0189 - val_loss: 0.0225\n",
      "Epoch 4/5\n",
      "74894/74894 [==============================] - 7s - loss: 0.0187 - val_loss: 0.0224\n",
      "Epoch 5/5\n",
      "74894/74894 [==============================] - 7s - loss: 0.0186 - val_loss: 0.0224\n"
     ]
    },
    {
     "data": {
      "text/plain": [
       "<keras.callbacks.History at 0x115f4d2d0>"
      ]
     },
     "execution_count": 160,
     "metadata": {},
     "output_type": "execute_result"
    }
   ],
   "source": [
    "model.fit([users,doc_by_vocab,ratings],labels,validation_split = .1,epochs=5,verbose=1)"
   ]
  },
  {
   "cell_type": "code",
   "execution_count": 161,
   "metadata": {
    "collapsed": false
   },
   "outputs": [
    {
     "data": {
      "text/plain": [
       "['151 - Row, Row, Row Your Boat',\n",
       " 'OUR FAIR CITY  S3E15',\n",
       " 'The Flop House: Episode #21 - One Missed Call',\n",
       " '#178 The Go In Gomez',\n",
       " 'The Flop House: Episode #61 - Surrogates',\n",
       " 'The Geologic Podcast: Episode #47',\n",
       " '53 - National Tragedy Special (Kumail Nanjiani)',\n",
       " 'Laser Time  The Best of 2015 (so far)',\n",
       " \"#137 Now Who's F*cked?\",\n",
       " 'The Geologic Podcast: Episode #55']"
      ]
     },
     "execution_count": 161,
     "metadata": {},
     "output_type": "execute_result"
    }
   ],
   "source": [
    "[index_to_episode[e_i] for e_i in np.array([model.predict([np.array([0]),doc_by_vocab[v].reshape(1,10000),np.array([1.])], batch_size=32, verbose=2)[0][0] for v in range(doc_by_vocab.shape[0])]).argsort()][:10]"
   ]
  },
  {
   "cell_type": "code",
   "execution_count": 257,
   "metadata": {
    "collapsed": false
   },
   "outputs": [],
   "source": [
    "from collections import defaultdict\n",
    "import string\n",
    "import re\n",
    "def regex_parsers_initial(data_string):\n",
    "    regex = re.compile('[%s]' % re.escape(string.punctuation))\n",
    "    regex_2 = re.compile('[%s]' % re.escape('\\n\\t'))\n",
    "    regex_3 = re.compile('[%s]' % '\\d+')\n",
    "    return regex_3.sub(' <NUM> ',regex_2.sub(' ',regex.sub('',data_string.lower())))\n",
    "\n",
    "def vocabulary(data):\n",
    "    vocab = defaultdict(int)\n",
    "    for d in data:\n",
    "        for k,v in Counter(regex_parsers_initial(d).split(' ')).iteritems():\n",
    "            vocab[k] += v\n",
    "    return vocab\n",
    "filtered_out_words = [ k[0] for k in sorted(vocabulary(filtered_data).items(), key=lambda x:x[1]) if k[1]<5]"
   ]
  },
  {
   "cell_type": "code",
   "execution_count": null,
   "metadata": {
    "collapsed": true
   },
   "outputs": [],
   "source": []
  },
  {
   "cell_type": "code",
   "execution_count": null,
   "metadata": {
    "collapsed": false,
    "scrolled": true
   },
   "outputs": [],
   "source": [
    "from keras.layers import Dense, Input, Embedding, Flatten, Dropout, Bidirectional, GRU, LSTM\n",
    "from keras.models import Model\n",
    "from keras.layers.merge import dot\n",
    "from keras.layers.pooling import AveragePooling1D\n",
    "from keras.losses import mean_squared_error\n",
    "from keras.regularizers import l2 as l2reg\n",
    "\n",
    "user_in = Input(shape=(1,), dtype = 'int32')\n",
    "true_rating_in = Input((1,), dtype = 'float32')\n",
    "meta_features_in = Input(shape=(doc_by_vocab.shape[1],), dtype = 'float32')\n",
    "#########\n",
    "user_embeddings = Embedding(n_users, 5)\n",
    "user_encoded = Flatten()(user_embeddings(user_in))\n",
    "#########\n",
    "episode_embeddings = Embedding(vocab_size,300,embeddings_regularizer=l2reg(0.01),weights=[word2vec_mat])\n",
    "episode_first_dropout = Dropout(0.1)(episode_embeddings)\n",
    "episode_post_gru = GRU(300)(episode_first_dropout)\n",
    "# episode_post_first_rnn = Bidirectional(GRU(400))(episode_first_dropout)\n",
    "# episode_second_dropout = Dropout(0.5)(episode_post_first_rnn)\n",
    "# episode_post_second_rnn = GRU(units=200)(episode_second_dropout)\n",
    "# episode_third_dropout = Dropout(0.3)(episode_post_second_rnn)\n",
    "# episode_encoded_final = AveragePooling1D()(episode_third_dropout)\n",
    "episode_final = Dense(5)(episode_post_gru)\n",
    "\n",
    "prediction = dot([user_encoded, episode_encoded], axes = 1)\n",
    "error = Lambda(lambda x: K.mean(K.square(x[0] - x[1]), axis=-1, keepdims = True))\n",
    "model = Model(inputs = [user_in, meta_features_in,true_rating_in],\n",
    "                     outputs = error([prediction, true_rating_in]))\n",
    "model.compile(loss = 'mae', optimizer = 'adam')\n",
    "model.summary()"
   ]
  },
  {
   "cell_type": "code",
   "execution_count": null,
   "metadata": {
    "collapsed": true
   },
   "outputs": [],
   "source": []
  }
 ],
 "metadata": {
  "kernelspec": {
   "display_name": "podcastenv",
   "language": "python",
   "name": "podcastenv"
  },
  "language_info": {
   "codemirror_mode": {
    "name": "ipython",
    "version": 2
   },
   "file_extension": ".py",
   "mimetype": "text/x-python",
   "name": "python",
   "nbconvert_exporter": "python",
   "pygments_lexer": "ipython2",
   "version": "2.7.10"
  }
 },
 "nbformat": 4,
 "nbformat_minor": 0
}
